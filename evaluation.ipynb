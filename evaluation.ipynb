{
 "cells": [
  {
   "cell_type": "markdown",
   "id": "26d9da3a-ae46-4714-b0f5-fd9f4da941bd",
   "metadata": {},
   "source": [
    "#### Evaluation"
   ]
  },
  {
   "cell_type": "code",
   "execution_count": null,
   "id": "6c3934a5-3d3c-4744-a204-4cb8fdc724c0",
   "metadata": {},
   "outputs": [],
   "source": [
    "import torch\n",
    "import numpy as np\n",
    "import torch.optim as optim\n",
    "import torch.nn.functional as F\n",
    "from torch.utils.data import Dataset, DataLoader\n",
    "from torch.optim.lr_scheduler import ReduceLROnPlateau, CosineAnnealingLR, LambdaLR, CosineAnnealingWarmRestarts\n",
    "from IPython.display import clear_output\n",
    "from tqdm.notebook import tqdm\n",
    "\n",
    "# Import MD-RNN from mdrnn.py\n",
    "import rmdn as rmdn\n",
    "\n",
    "# Import Utility Functions from utils.py\n",
    "import utils\n",
    "\n",
    "# Determine device\n",
    "device = torch.device('cuda:0' if torch.cuda.is_available() else 'cpu')\n",
    "print(device)\n",
    "\n",
    "# Default training loop parameters\n",
    "TRAINING_PARAMS = {\n",
    "    'hidden_size': 32,\n",
    "    'initial_learning_rate': 0.001,\n",
    "    'min_lr': 1e-5,\n",
    "    'num_epochs': 100,\n",
    "    'batch_size': 32\n",
    "}"
   ]
  },
  {
   "cell_type": "markdown",
   "id": "cffd0de9-d662-4835-a9ad-da5c7477f02d",
   "metadata": {},
   "source": [
    "#### Load Model and Test Dataset"
   ]
  },
  {
   "cell_type": "code",
   "execution_count": null,
   "id": "d825977d-a1e0-4eee-8fe3-a725965dbca9",
   "metadata": {},
   "outputs": [],
   "source": [
    "model = rmdn.RMDN(TRAINING_PARAMS['hidden_size'], input_size=3)\n",
    "model.load_state_dict(torch.load('model_weights.pth', weights_only=True))\n",
    "\n",
    "if device != 'cpu':\n",
    "    model = model.to(device)"
   ]
  },
  {
   "cell_type": "markdown",
   "id": "a513da4a-e50a-4480-b7d0-87edfd254c28",
   "metadata": {},
   "source": [
    "#### Evaluate Model Performance"
   ]
  },
  {
   "cell_type": "code",
   "execution_count": null,
   "id": "d50a95a6-f8ac-43e3-8b7e-c6331b6a929c",
   "metadata": {},
   "outputs": [],
   "source": [
    "utils.visualize_performance([0.0, 0.2, 0.8, 1.0], 5)"
   ]
  },
  {
   "cell_type": "code",
   "execution_count": null,
   "id": "ada69082-0d93-4501-b946-3c0ee1453716",
   "metadata": {},
   "outputs": [],
   "source": []
  }
 ],
 "metadata": {
  "kernelspec": {
   "display_name": "myenv",
   "language": "python",
   "name": "python3"
  },
  "language_info": {
   "codemirror_mode": {
    "name": "ipython",
    "version": 3
   },
   "file_extension": ".py",
   "mimetype": "text/x-python",
   "name": "python",
   "nbconvert_exporter": "python",
   "pygments_lexer": "ipython3",
   "version": "3.11.11"
  }
 },
 "nbformat": 4,
 "nbformat_minor": 5
}
